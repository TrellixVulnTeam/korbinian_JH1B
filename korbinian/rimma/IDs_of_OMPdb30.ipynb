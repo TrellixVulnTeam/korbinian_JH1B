{
 "metadata": {
  "name": "",
  "signature": "sha256:a8d41998ff3ee4f661a07cb0099722fd7a5b774ca1570dbb2483de24e3649b32"
 },
 "nbformat": 3,
 "nbformat_minor": 0,
 "worksheets": [
  {
   "cells": [
    {
     "cell_type": "code",
     "collapsed": false,
     "input": [
      "save_file =open(\"Potential_IDs.txt\", \"w+\")\n",
      "\n",
      "with open (r\"C:\\Users\\Rima\\Desktop\\Bachelorthesis\\Databases\\Download\\OMPdb.30\\OMPdb.30\") as text_file:    \n",
      "\n",
      "    Potential_IDs = [lines.strip()[1:] for lines in text_file.readlines() if \">\" in lines]\n",
      "    for ID in Potential_IDs:\n",
      "        save_file.write(\"%s\\n\" % ID)\n"
     ],
     "language": "python",
     "metadata": {},
     "outputs": [],
     "prompt_number": 47
    }
   ],
   "metadata": {}
  }
 ]
}