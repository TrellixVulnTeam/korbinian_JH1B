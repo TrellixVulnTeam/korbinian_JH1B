{
 "metadata": {
  "name": "",
  "signature": "sha256:94554d554c641bcb40a911b644f4c34af7dc982247cc1a0986a66c8e739cfca7"
 },
 "nbformat": 3,
 "nbformat_minor": 0,
 "worksheets": [
  {
   "cells": [
    {
     "cell_type": "code",
     "collapsed": false,
     "input": [
      "import pandas as pd\n",
      "\n",
      "text_file = r\"C:\\Users\\Rima\\Desktop\\Bachelorthesis\\Databases\\Download\\download_OMPdb.txt\"\n",
      "id_file = r\"C:\\Users\\Rima\\Desktop\\Bachelorthesis\\Lists\\Potential_IDs_of_OMPdb30.txt\"\n",
      "\n",
      "#Creating dictionary keywords \n",
      "\n",
      "keywords ={\"Uniprot\":[],\"Family\":[],\"Gene_Name\":[],\"Organism\":[],\"NCBI_TaxID\":[],\"Coverage(%)\":[],\"Sequence\":[],\"len_Sequence\":[],\"Topology_Reli\":[],\"Topology\":[]}\n",
      "\n",
      "#Start settings which are changed during the for loop\n",
      "take_next_seq=False\n",
      "take_next_topo=False\n",
      "take_ID=False\n",
      "\n",
      "#Empty lists which are filled during the for loop\n",
      "Raw_Sequences=[]\n",
      "Raw_Topos = []\n",
      "IDs=[]\n",
      "\n",
      "# Extracts IDs out of file \n",
      "with open (id_file) as source: \n",
      "    for line in source:\n",
      "        line=line.strip()\n",
      "        IDs.append(line)\n",
      "# Checking text_file(complete OMPdb in very unfriendly formatting)for IDs(which are stored in list of Potential IDs) and extracting information \n",
      "with open (text_file) as data_file:\n",
      "    \n",
      "    for line in data_file:\n",
      "        line = line.strip().split(\" \")\n",
      "# Further settings which are changed every loop\n",
      "        sequence_header=False\n",
      "        topo_header=False\n",
      "# If-conditions make sure, that the ID is in the list of Potential IDs and check for keywords in each line \n",
      "        if \"UNIPROT\" in line and line[-1] in IDs:\n",
      "            keywords[\"Uniprot\"].append(line[-1])\n",
      "            take_ID=True\n",
      "        if \"FAMILY\" in line and take_ID==True:\n",
      "            keywords[\"Family\"].append(\" \".join(line[9:]))\n",
      "        if \"GENE_NAME\" in line and take_ID==True: \n",
      "            keywords[\"Gene_Name\"].append(\" \".join(line[6:]))\n",
      "        if \"ORGANISM\" in line and take_ID==True: \n",
      "            keywords[\"Organism\"].append(\" \".join(line[7:]))\n",
      "        if \"NCBI_TAXID\" in line and take_ID==True:\n",
      "            keywords[\"NCBI_TaxID\"].append(line[-1])\n",
      "        if \"COVERAGE(%)\" in line and take_ID==True:\n",
      "            keywords[\"Coverage(%)\"].append(line[-1])\n",
      "        if '\"SEQUENCE' in line and take_ID==True:\n",
      "            keywords[\"len_Sequence\"].append(line[7])\n",
      "            take_next_seq=True\n",
      "            sequence_header=True\n",
      "        if '\"TOPOLOGY' in line and take_ID==True: \n",
      "            Raw_Sequences.extend(\";\")\n",
      "            keywords[\"Topology_Reli\"].append(line[-1].strip('\"').strip(\"%\"))\n",
      "            take_next_seq=False\n",
      "            take_next_topo=True\n",
      "            topo_header=True \n",
      "        if take_next_seq == True and sequence_header != True and take_ID==True:\n",
      "            Raw_Sequences.extend(line)\n",
      "        if \"//\" in line and take_ID==True:\n",
      "            Raw_Topos.extend(\";\")\n",
      "            topo_header=False\n",
      "            take_next_topo=False\n",
      "            take_ID=False\n",
      "        if take_next_topo ==True and topo_header!= True:\n",
      "            Raw_Topos.extend(line)    \n",
      "    Sequences = \"\".join(Raw_Sequences).split(\";\") \n",
      "    Sequences.remove(\"\")\n",
      "    keywords[\"Sequence\"]=Sequences\n",
      "    Topos = \"\".join(Raw_Topos).split(\";\")\n",
      "    Topos.remove(\"\")\n",
      "    keywords[\"Topology\"]=Topos\n",
      "\n"
     ],
     "language": "python",
     "metadata": {},
     "outputs": [],
     "prompt_number": 12
    },
    {
     "cell_type": "code",
     "collapsed": false,
     "input": [
      "# Checking if keywords-lists are equally long\n",
      "\n",
      "print(len(keywords[\"Uniprot\"])\n",
      ",len(keywords[\"Family\"])\n",
      ",len(keywords[\"Gene_Name\"])\n",
      ",len(keywords[\"Organism\"])\n",
      ",len(keywords[\"NCBI_TaxID\"])\n",
      ",len(keywords[\"Coverage(%)\"])\n",
      ",len(keywords[\"Sequence\"])       \n",
      ",len(keywords[\"len_Sequence\"])\n",
      ",len(keywords[\"Topology_Reli\"])\n",
      ",len(keywords[\"Topology\"]))\n",
      "             "
     ],
     "language": "python",
     "metadata": {},
     "outputs": [
      {
       "output_type": "stream",
       "stream": "stdout",
       "text": [
        "1466 1466 1466 1466 1466 1466 1466 1466 1466 1466\n"
       ]
      }
     ],
     "prompt_number": 14
    },
    {
     "cell_type": "code",
     "collapsed": false,
     "input": [
      "# Creating Dataframe and saving it as csv and Excelfile\n",
      "\n",
      "df = pd.DataFrame(keywords)\n",
      "df.to_csv(\"OMPdb_Selected_by_IDs.csv\",index=False)\n",
      "\n",
      "writer = pd.ExcelWriter(\"OMPdb_Selected_by_IDs.xlsx\")\n",
      "df.to_excel(writer)\n",
      "\n"
     ],
     "language": "python",
     "metadata": {},
     "outputs": [],
     "prompt_number": 15
    },
    {
     "cell_type": "code",
     "collapsed": false,
     "input": [],
     "language": "python",
     "metadata": {},
     "outputs": []
    },
    {
     "cell_type": "code",
     "collapsed": false,
     "input": [],
     "language": "python",
     "metadata": {},
     "outputs": []
    }
   ],
   "metadata": {}
  }
 ]
}