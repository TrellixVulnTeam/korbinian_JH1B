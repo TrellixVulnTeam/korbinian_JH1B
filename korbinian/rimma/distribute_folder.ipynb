{
 "metadata": {
  "name": "",
  "signature": "sha256:35b806e3e4f05f59e03cfe19c201b227c8e8f64a8065973460fd6fc2f8b2bbb3"
 },
 "nbformat": 3,
 "nbformat_minor": 0,
 "worksheets": [
  {
   "cells": [
    {
     "cell_type": "code",
     "collapsed": false,
     "input": [
      "import os\n",
      "\n",
      "def distribute_to_subfolders (path):\n",
      "\n",
      "    list_of_filenames = os.listdir(path)\n",
      "\n",
      "    for n in list(set(n[0:2] for n in os.listdir(path))):\n",
      "        os.makedirs(str(path)+\"/%s\" %n)\n",
      "\n",
      "    for n in list_of_filenames:\n",
      "        directory = path+\"/\"+n\n",
      "        new_directory = path+\"/\"+n[0:2]+\"/\"+n \n",
      "        os.replace(directory,new_directory)\n",
      "        "
     ],
     "language": "python",
     "metadata": {},
     "outputs": [],
     "prompt_number": 6
    },
    {
     "cell_type": "code",
     "collapsed": false,
     "input": [
      "distribute_to_subfolders(r\"C:\\Users\\Rima\\Desktop\\test_zur_fileerstellung\")"
     ],
     "language": "python",
     "metadata": {},
     "outputs": [],
     "prompt_number": 5
    }
   ],
   "metadata": {}
  }
 ]
}