{
 "cells": [
  {
   "cell_type": "code",
   "execution_count": 1,
   "metadata": {},
   "outputs": [],
   "source": [
    "from splinter import Browser\n",
    "import time\n",
    "import glob\n",
    "import os\n",
    "from multiprocessing import Pool\n",
    "#import urllib\n",
    "#browser = Browser('firefox')\n",
    "# check out the docs: http://splinter.readthedocs.io/en/latest/"
   ]
  },
  {
   "cell_type": "code",
   "execution_count": null,
   "metadata": {
    "collapsed": true
   },
   "outputs": [],
   "source": [
    "def submit_only(input_acc):\n",
    "    browser = Browser()\n",
    "    url = \"http://scampi.bioinfo.se\"\n",
    "    browser.visit(url)\n",
    "    time.sleep(5)\n",
    "    browser.attach_file('seqfile', '/Users/Maddin/Desktop/SCAMPI_input_fasta/{}.fasta'.format(input_acc))\n",
    "    time.sleep(3)\n",
    "    browser.fill('jobname', 'HP_{}'.format(input_acc))\n",
    "    submit_MSA = browser.find_by_name('domsa')\n",
    "    submit_MSA.click()\n",
    "    time.sleep(4)\n",
    "    print('submitted: {}'.format(input_acc), end='\\n')\n",
    "    browser.quit()"
   ]
  },
  {
   "cell_type": "code",
   "execution_count": 2,
   "metadata": {},
   "outputs": [],
   "source": [
    "def download_SCAMPI_msa(input_acc):\n",
    "    finished = False\n",
    "    browser = Browser()\n",
    "    url = \"http://scampi.bioinfo.se\"\n",
    "    browser.visit(url)\n",
    "    browser.attach_file('seqfile', '/Users/Maddin/Desktop/SCAMPI_input_fasta/{}.fasta'.format(input_acc))\n",
    "    browser.fill('jobname', 'HP_{}'.format(input_acc))\n",
    "    submit_MSA = browser.find_by_name('domsa')\n",
    "    submit_MSA.click()\n",
    "\n",
    "    time.sleep(3)\n",
    "    while finished == False:\n",
    "        print('.', end='')\n",
    "        if browser.is_element_present_by_text('query.top') == True:\n",
    "            log_url = browser.url\n",
    "            finished = True\n",
    "        else:\n",
    "            print(',', end='')\n",
    "            time.sleep(30)\n",
    "            browser.reload()\n",
    "\n",
    "    time.sleep(3)\n",
    "    browser.click_link_by_partial_text('query.top')\n",
    "    time.sleep(3)\n",
    "    text = browser.html\n",
    "    text = text.split('\\n')\n",
    "    header = text[0].split(';')[-1]\n",
    "    topo = text[-2]\n",
    "    file = open('/Users/Maddin/Desktop/SCAMPI_input_fasta/results/{}.top'.format(input_acc), 'w')\n",
    "    file.write('>{}\\n{}'.format(header, topo))\n",
    "    file.close()\n",
    "    print('{} finished'.format(input_acc), end='\\n')\n",
    "    browser.quit()"
   ]
  },
  {
   "cell_type": "code",
   "execution_count": 11,
   "metadata": {},
   "outputs": [],
   "source": [
    "path = '/Users/Maddin/Desktop/SCAMPI_input_fasta'\n",
    "os.chdir(path)\n",
    "filenames=glob.glob('*.fasta')\n",
    "finished_files=glob.glob('results/*.top')"
   ]
  },
  {
   "cell_type": "code",
   "execution_count": 12,
   "metadata": {},
   "outputs": [],
   "source": [
    "finished_acc = []\n",
    "for file in finished_files:\n",
    "    finished_acc.append(file[8:-4])\n",
    "    \n",
    "input_acc = []\n",
    "for filename in filenames:\n",
    "    input_acc.append(filename[:-6])\n",
    "    \n",
    "remove = [input_acc.remove(x) for x in finished_acc]"
   ]
  },
  {
   "cell_type": "code",
   "execution_count": 6,
   "metadata": {
    "scrolled": false
   },
   "outputs": [
    {
     "name": "stdout",
     "output_type": "stream",
     "text": [
      "1 P49685  .P49685 finished\n",
      "2 P50391  .P50391 finished\n",
      "3 P51582  .P51582 finished\n",
      "4 P51677  .P51677 finished\n",
      "5 P51679  .P51679 finished\n",
      "6 P51681  .P51681 finished\n",
      "7 P51684  .P51684 finished\n",
      "8 P51685  .P51685 finished\n",
      "9 P51686  .P51686 finished\n",
      "10 P51810  .P51810 finished\n",
      "11 P55085  .P55085 finished\n",
      "12 P59533  .P59533 finished\n",
      "13 P59535  .P59535 finished\n",
      "14 P59538  .P59538 finished\n",
      "15 P59540  .P59540 finished\n",
      "16 P59551  .P59551 finished\n",
      "17 P60893  .P60893 finished\n",
      "18 P61073  .P61073 finished\n",
      "19 Q01718  .Q01718 finished\n",
      "20 Q01726  .Q01726 finished\n",
      "21 Q02643  .Q02643 finished\n",
      "22 Q03431  .Q03431 finished\n",
      "23 Q13255  .Q13255 finished\n",
      "24 Q13258  .Q13258 finished\n",
      "25 Q13304  .,.,.,.,.,.,.,.,.,.,.,.,.Q13304 finished\n",
      "26 Q13324  .Q13324 finished\n",
      "27 Q13585  .Q13585 finished\n",
      "28 Q13639  .Q13639 finished\n",
      "29 Q14246  .Q14246 finished\n",
      "30 Q14330  .Q14330 finished\n",
      "31 Q14332  .Q14332 finished\n",
      "32 Q14416  .Q14416 finished\n",
      "33 Q14439  .Q14439 finished\n",
      "34 Q14832  .Q14832 finished\n",
      "35 Q14833  .Q14833 finished\n",
      "36 Q15077  .Q15077 finished\n",
      "37 Q15391  .Q15391 finished\n",
      "38 Q15743  .Q15743 finished\n",
      "39 Q15760  .Q15760 finished\n",
      "40 Q16538  .Q16538 finished\n",
      "41 Q16570  .Q16570 finished\n",
      "42 Q16581  .Q16581 finished\n",
      "43 Q16602  .Q16602 finished\n",
      "44 Q49SQ1  .Q49SQ1 finished\n",
      "45 Q5NUL3  .Q5NUL3 finished\n",
      "46 Q5T601  .Q5T601 finished\n",
      "47 Q5T848  .Q5T848 finished\n",
      "48 Q5UAW9  .Q5UAW9 finished\n",
      "49 Q6NV75  .Q6NV75 finished\n",
      "50 Q6PRD1  .Q6PRD1 finished\n",
      "51 Q6QNK2  .Q6QNK2 finished\n",
      "52 Q6W5P4  .Q6W5P4 finished\n",
      "53 Q7RTR8  .Q7RTR8 finished\n",
      "54 Q7RTX0  .Q7RTX0 finished\n",
      "55 Q7RTX1  .Q7RTX1 finished\n",
      "56 Q7Z5H4  .Q7Z5H4 finished\n",
      "57 Q7Z5H5  .Q7Z5H5 finished\n",
      "58 Q7Z601  .Q7Z601 finished\n",
      "59 Q7Z602  .Q7Z602 finished\n",
      "60 Q7Z7M1  .Q7Z7M1 finished\n",
      "61 Q86SM5  .Q86SM5 finished\n",
      "62 Q86SM8  .Q86SM8 finished\n",
      "63 Q86SQ3  .Q86SQ3 finished\n",
      "64 Q86SQ4  .Q86SQ4 finished\n",
      "65 Q86SQ6  .Q86SQ6 finished\n",
      "66 Q86VZ1  .Q86VZ1 finished\n",
      "67 Q86Y34  .Q86Y34 finished\n",
      "68 Q8IWK6  .Q8IWK6 finished\n",
      "69 Q8IYL9  .Q8IYL9 finished\n",
      "70 Q8IZ08  .Q8IZ08 finished\n",
      "71 Q8IZF3  .Q8IZF3 finished\n",
      "72 Q8IZF4  .Q8IZF4 finished\n",
      "73 Q8IZF5  .Q8IZF5 finished\n",
      "74 Q8IZF6  .Q8IZF6 finished\n",
      "75 Q8IZF7  .Q8IZF7 finished\n",
      "76 Q8IZP9  .Q8IZP9 finished\n",
      "77 Q8NFJ5  .Q8NFJ5 finished\n",
      "78 Q8NFJ6  .Q8NFJ6 finished\n",
      "79 Q8NFN8  .Q8NFN8 finished\n",
      "80 Q8NFZ6  .Q8NFZ6 finished\n",
      "81 Q8NGE0  .Q8NGE0 finished\n",
      "82 Q8NGQ2  .Q8NGQ2 finished\n",
      "83 Q8NGU9  .Q8NGU9 finished\n",
      "84 Q8TDS4  .Q8TDS4 finished\n",
      "85 Q8TDS5  .Q8TDS5 finished\n",
      "86 Q8TDS7  .Q8TDS7 finished\n",
      "87 Q8TDT2  .Q8TDT2 finished\n",
      "88 Q8TDU5  .Q8TDU5 finished\n",
      "89 Q8TDU6  .Q8TDU6 finished\n",
      "90 Q8TDU9  .Q8TDU9 finished\n",
      "91 Q8TDV0  .Q8TDV0 finished\n",
      "92 Q8TDV2  .Q8TDV2 finished\n",
      "93 Q8TE23  .Q8TE23 finished\n",
      "94 Q8WXD0  .Q8WXD0 finished\n",
      "95 Q8WXG9  .Q8WXG9 finished\n",
      "96 Q92847  .Q92847 finished\n",
      "97 Q969F8  .Q969F8 finished\n",
      "98 Q969N4  .Q969N4 finished\n",
      "99 Q969V1  .Q969V1 finished\n",
      "100 Q96AM1  .Q96AM1 finished\n",
      "101 Q96CH1  .Q96CH1 finished\n",
      "102 Q96G91  .Q96G91 finished\n",
      "103 Q96K78  .Q96K78 finished\n",
      "104 Q96LB1  .Q96LB1 finished\n",
      "105 Q96LB2  .Q96LB2 finished\n",
      "106 Q96P65  .Q96P65 finished\n",
      "107 Q96P66  .Q96P66 finished\n",
      "108 Q96P67  .Q96P67 finished\n",
      "109 Q96P68  .Q96P68 finished\n",
      "110 Q96P88  .Q96P88 finished\n",
      "111 Q96PE1  .Q96PE1 finished\n",
      "112 Q96RI0  .Q96RI0 finished\n",
      "113 Q96RJ0  .Q96RJ0 finished\n",
      "114 Q99500  .Q99500 finished\n",
      "115 Q99527  .Q99527 finished\n",
      "116 Q99677  .Q99677 finished\n",
      "117 Q99678  .Q99678 finished\n",
      "118 Q99680  .Q99680 finished\n",
      "119 Q99705  .Q99705 finished\n",
      "120 Q99788  .Q99788 finished\n",
      "121 Q9BPV8  .Q9BPV8 finished\n",
      "122 Q9BXA5  .Q9BXA5 finished\n",
      "123 Q9BXC0  .Q9BXC0 finished\n",
      "124 Q9BXE9  .Q9BXE9 finished\n",
      "125 Q9BY15  .Q9BY15 finished\n",
      "126 Q9BY21  .Q9BY21 finished\n",
      "127 Q9BZJ6  .Q9BZJ6 finished\n",
      "128 Q9BZJ7  .Q9BZJ7 finished\n",
      "129 Q9BZJ8  .Q9BZJ8 finished\n",
      "130 Q9GZP7  .Q9GZP7 finished\n",
      "131 Q9GZQ4  .Q9GZQ4 finished\n",
      "132 Q9GZQ6  .Q9GZQ6 finished\n",
      "133 Q9H1C0  .Q9H1C0 finished\n",
      "134 Q9H1Y3  .Q9H1Y3 finished\n",
      "135 Q9H228  .Q9H228 finished\n",
      "136 Q9H244  .Q9H244 finished\n",
      "137 Q9H340  .Q9H340 finished\n",
      "138 Q9H3N8  .Q9H3N8 finished\n",
      "139 Q9HB89  .Q9HB89 finished\n",
      "140 Q9HBW0  .Q9HBW0 finished\n",
      "141 Q9HBW9  .Q9HBW9 finished\n",
      "142 Q9HBX8  .Q9HBX8 finished\n",
      "143 Q9HBX9  .Q9HBX9 finished\n",
      "144 Q9HC97  .Q9HC97 finished\n",
      "145 Q9HCU4  .Q9HCU4 finished\n",
      "146 Q9NPB9  .Q9NPB9 finished\n",
      "147 Q9NPC1  .Q9NPC1 finished\n",
      "148 Q9NQ84  .Q9NQ84 finished\n",
      "149 Q9NQS5  .Q9NQS5 finished\n",
      "150 Q9NS67  .Q9NS67 finished\n",
      "151 Q9NS75  .Q9NS75 finished\n",
      "152 Q9NSD7  .Q9NSD7 finished\n",
      "153 Q9NYQ7  .Q9NYQ7 finished\n",
      "154 Q9NYV8  .Q9NYV8 finished\n",
      "155 Q9NYV9  .Q9NYV9 finished\n",
      "156 Q9NYW0  .Q9NYW0 finished\n",
      "157 Q9NYW1  .Q9NYW1 finished\n",
      "158 Q9NYW2  .Q9NYW2 finished\n",
      "159 Q9NYW3  .Q9NYW3 finished\n",
      "160 Q9NYW4  .Q9NYW4 finished\n",
      "161 Q9NYW5  .Q9NYW5 finished\n",
      "162 Q9NYW6  .Q9NYW6 finished\n",
      "163 Q9NYW7  .Q9NYW7 finished\n",
      "164 Q9NZH0  .Q9NZH0 finished\n",
      "165 Q9P1P5  .Q9P1P5 finished\n",
      "166 Q9P296  .Q9P296 finished\n",
      "167 Q9UBY5  .Q9UBY5 finished\n",
      "168 Q9UHM6  .Q9UHM6 finished\n",
      "169 Q9UHX3  .Q9UHX3 finished\n",
      "170 Q9UJ42  .Q9UJ42 finished\n",
      "171 Q9ULV1  .Q9ULV1 finished\n",
      "172 Q9UNW8  .Q9UNW8 finished\n",
      "173 Q9UPC5  .Q9UPC5 finished\n",
      "174 Q9Y271  .Q9Y271 finished\n",
      "175 Q9Y2T5  .Q9Y2T5 finished\n",
      "176 Q9Y2T6  .Q9Y2T6 finished\n",
      "177 Q9Y5X5  .Q9Y5X5 finished\n",
      "178 Q9Y5Y3  .Q9Y5Y3 finished\n",
      "179 Q9Y5Y4  .Q9Y5Y4 finished\n",
      "180 Q9Y653  .Q9Y653 finished\n"
     ]
    }
   ],
   "source": [
    "#input_acc = input_acc[:20]\n",
    "for n, acc in enumerate(input_acc):\n",
    "    print('{} {} '.format(n+1, acc), end=' ')\n",
    "    download_SCAMPI_msa(acc)"
   ]
  },
  {
   "cell_type": "code",
   "execution_count": null,
   "metadata": {
    "collapsed": true
   },
   "outputs": [],
   "source": []
  },
  {
   "cell_type": "code",
   "execution_count": null,
   "metadata": {},
   "outputs": [],
   "source": [
    "# submit only\n",
    "for n, acc in enumerate(input_acc):\n",
    "    print('{} {}'.format(n+1, acc), end=' ')\n",
    "    submit_only(acc)"
   ]
  },
  {
   "cell_type": "code",
   "execution_count": null,
   "metadata": {
    "scrolled": false
   },
   "outputs": [],
   "source": [
    "\n",
    "# submit only\n",
    "if __name__ == '__main__':\n",
    "    with Pool(processes=4) as pool:\n",
    "        run = pool.map(submit_only, input_acc)"
   ]
  },
  {
   "cell_type": "code",
   "execution_count": null,
   "metadata": {
    "scrolled": false
   },
   "outputs": [],
   "source": [
    "if __name__ == '__main__':\n",
    "    with Pool(processes=8) as pool:\n",
    "        run = pool.map(download_SCAMPI_msa, input_acc)\n",
    "        print (run)"
   ]
  },
  {
   "cell_type": "code",
   "execution_count": null,
   "metadata": {
    "collapsed": true
   },
   "outputs": [],
   "source": []
  },
  {
   "cell_type": "code",
   "execution_count": 8,
   "metadata": {
    "collapsed": true
   },
   "outputs": [],
   "source": [
    "# concatenate results\n",
    "results_path = '/Users/Maddin/Desktop/SCAMPI_input_fasta/results'\n",
    "os.chdir(results_path)"
   ]
  },
  {
   "cell_type": "code",
   "execution_count": 9,
   "metadata": {
    "collapsed": true
   },
   "outputs": [],
   "source": [
    "# get all files in results folder\n",
    "result_files = glob.glob('*.top')"
   ]
  },
  {
   "cell_type": "code",
   "execution_count": 10,
   "metadata": {},
   "outputs": [
    {
     "name": "stdout",
     "output_type": "stream",
     "text": [
      "processed files:  491\n"
     ]
    }
   ],
   "source": [
    "combined_results = open('combined_results.txt', 'w')\n",
    "for n, file in enumerate(result_files):\n",
    "    with open(file, 'r') as f:\n",
    "        for line in f:\n",
    "            line=line.strip()\n",
    "            #print(line)\n",
    "            combined_results.write('{}\\n'.format(line))\n",
    "            #line = line.strip\n",
    "combined_results.close()\n",
    "print('processed files: ', n+1)"
   ]
  }
 ],
 "metadata": {
  "kernelspec": {
   "display_name": "Python 3",
   "language": "python",
   "name": "python3"
  },
  "language_info": {
   "codemirror_mode": {
    "name": "ipython",
    "version": 3
   },
   "file_extension": ".py",
   "mimetype": "text/x-python",
   "name": "python",
   "nbconvert_exporter": "python",
   "pygments_lexer": "ipython3",
   "version": "3.6.4"
  }
 },
 "nbformat": 4,
 "nbformat_minor": 2
}
